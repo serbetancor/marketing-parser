{
 "cells": [
  {
   "cell_type": "code",
   "execution_count": 1,
   "metadata": {},
   "outputs": [],
   "source": [
    "import json\n",
    "import re"
   ]
  },
  {
   "cell_type": "code",
   "execution_count": 5,
   "metadata": {},
   "outputs": [
    {
     "name": "stdout",
     "output_type": "stream",
     "text": [
      "Zara unique items: 1950 items.\n",
      "Zara total items: 2643 items.\n"
     ]
    }
   ],
   "source": [
    "with open('../data/filteredZara.json', 'r') as jsonFile:\n",
    "    data = json.load(jsonFile)\n",
    "\n",
    "pattern = r\"https://www.zara.com/es/es/-pT\\d+\\.html\"\n",
    "\n",
    "single_urls = []\n",
    "repeated = 0\n",
    "for category in data['categories']:\n",
    "    if category['products']:\n",
    "        for product in category['products']:\n",
    "            url_trim = product['url']\n",
    "            url_trim = url_trim[:url_trim.rfind('-')] # Unique items\n",
    "            if re.sub(pattern, '', product['url']) and url_trim not in single_urls:\n",
    "                single_urls.append(url_trim)\n",
    "            else:\n",
    "                repeated += 1\n",
    "\n",
    "print(\"Zara unique items:\", len(single_urls), \"items.\")\n",
    "print(\"Zara total items:\", len(single_urls) + repeated, \"items.\")"
   ]
  },
  {
   "cell_type": "code",
   "execution_count": null,
   "metadata": {},
   "outputs": [],
   "source": [
    "for url in sorted(single_urls):\n",
    "    print(url)"
   ]
  },
  {
   "cell_type": "code",
   "execution_count": 6,
   "metadata": {},
   "outputs": [
    {
     "name": "stdout",
     "output_type": "stream",
     "text": [
      "Stradivarius unique items: 938 items.\n",
      "Stradivarius total items: 2592 items.\n"
     ]
    }
   ],
   "source": [
    "with open('../data/filteredStradivarius.json', 'r') as jsonFile:\n",
    "    data = json.load(jsonFile)\n",
    "\n",
    "single_urls = []\n",
    "repeated = 0\n",
    "pattern = r'categoryId=[^&]*&?'\n",
    "pattern2 = r'style=[^&]*&?'\n",
    "pattern3 = r'&pelement=.*$'\n",
    "\n",
    "for category in data['categories']:\n",
    "    if category['products']:\n",
    "        for product in category['products']:\n",
    "            modified_url = re.sub(pattern, '', product['url'])\n",
    "            modified_url = re.sub(pattern2, '', modified_url)\n",
    "            modified_url = re.sub(pattern3, '', modified_url)\n",
    "\n",
    "            modified_url = modified_url[:modified_url.rfind('-')] # Unique items\n",
    "\n",
    "            if modified_url not in single_urls:\n",
    "                single_urls.append(modified_url)\n",
    "            else:\n",
    "                repeated += 1\n",
    "        \n",
    "\n",
    "print(\"Stradivarius unique items:\", len(single_urls), \"items.\")\n",
    "print(\"Stradivarius total items:\", len(single_urls) + repeated, \"items.\")"
   ]
  },
  {
   "cell_type": "code",
   "execution_count": null,
   "metadata": {},
   "outputs": [],
   "source": [
    "for url in sorted(single_urls):\n",
    "    print(url)"
   ]
  },
  {
   "cell_type": "code",
   "execution_count": 10,
   "metadata": {},
   "outputs": [
    {
     "name": "stdout",
     "output_type": "stream",
     "text": [
      "Mango unique items: 1841 items.\n",
      "Mango total items: 2937 items.\n"
     ]
    }
   ],
   "source": [
    "with open('../data/filteredMango.json', 'r') as jsonFile:\n",
    "    data = json.load(jsonFile)\n",
    "\n",
    "repeated = 0\n",
    "nonrepeated = 0\n",
    "\n",
    "for category in data['categories']:\n",
    "    for product in category['products']:\n",
    "        nonrepeated += 1\n",
    "        repeated += product['variety']\n",
    "\n",
    "print(\"Mango unique items:\", nonrepeated, \"items.\")\n",
    "print(\"Mango total items:\", repeated, \"items.\")"
   ]
  },
  {
   "cell_type": "markdown",
   "metadata": {},
   "source": [
    "Just Stradivarius"
   ]
  },
  {
   "cell_type": "code",
   "execution_count": 7,
   "metadata": {},
   "outputs": [
    {
     "name": "stdout",
     "output_type": "stream",
     "text": [
      "Stradivarius unique items: 2168 items.\n",
      "Stradivarius total items: 5685 items.\n"
     ]
    }
   ],
   "source": [
    "with open('../data/productsStradivarius.json', 'r') as jsonFile:\n",
    "    data = json.load(jsonFile)\n",
    "\n",
    "single_urls = []\n",
    "repeated = 0\n",
    "pattern = r'categoryId=[^&]*&?'\n",
    "pattern2 = r'style=[^&]*&?'\n",
    "pattern3 = r'&pelement=.*$'\n",
    "\n",
    "for category in data['categories']:\n",
    "    if category['section']:\n",
    "        for section in category['section']:\n",
    "            if section['products']:\n",
    "                for product in section['products']:\n",
    "                    modified_url = re.sub(pattern, '', product['url'])\n",
    "                    modified_url = re.sub(pattern2, '', modified_url)\n",
    "                    modified_url = re.sub(pattern3, '', modified_url)\n",
    "\n",
    "                    # modified_url = modified_url[:modified_url.rfind('-')] # Unique items\n",
    "\n",
    "\n",
    "                    if modified_url not in single_urls:\n",
    "                        single_urls.append(modified_url)\n",
    "                    else:\n",
    "                        repeated += 1\n",
    "    else:\n",
    "        if category['products']:\n",
    "            for product in category['products']:\n",
    "                modified_url = re.sub(pattern, '', product['url'])\n",
    "                modified_url = re.sub(pattern2, '', modified_url)\n",
    "                modified_url = re.sub(pattern3, '', modified_url)\n",
    "\n",
    "                # modified_url = modified_url[:modified_url.rfind('-')] # Unique items\n",
    "\n",
    "                if modified_url not in single_urls:\n",
    "                    single_urls.append(modified_url)\n",
    "                else:\n",
    "                    repeated += 1\n",
    "        \n",
    "\n",
    "print(\"Stradivarius unique items:\", len(single_urls), \"items.\")\n",
    "print(\"Stradivarius total items:\", len(single_urls) + repeated, \"items.\")"
   ]
  }
 ],
 "metadata": {
  "kernelspec": {
   "display_name": "Python 3",
   "language": "python",
   "name": "python3"
  },
  "language_info": {
   "codemirror_mode": {
    "name": "ipython",
    "version": 3
   },
   "file_extension": ".py",
   "mimetype": "text/x-python",
   "name": "python",
   "nbconvert_exporter": "python",
   "pygments_lexer": "ipython3",
   "version": "3.11.9"
  }
 },
 "nbformat": 4,
 "nbformat_minor": 2
}
