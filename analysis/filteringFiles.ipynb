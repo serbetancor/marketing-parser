{
 "cells": [
  {
   "cell_type": "code",
   "execution_count": 3,
   "metadata": {},
   "outputs": [],
   "source": [
    "import json\n",
    "import re"
   ]
  },
  {
   "cell_type": "code",
   "execution_count": 13,
   "metadata": {},
   "outputs": [],
   "source": [
    "common_categories = ['chaquetas', 'pantalones', 'vestidos', 'vestidos y monos', 'sudaderas', 'camisas', 'blusas y camisas', 'camisetas', 'jeans', 'vaqueros', 'faldas', 'básicos', 'blazers', 'chalecos', 'punto', 'shorts', 'shorts | bermudas', 'bikinis y bañadores', 'bañadores | bikinis', 'tops y bodies', 'tops | bodies', 'tops']\n",
    "\n",
    "# Mango no vende sudaderas, básicos, chalecos, punto, accesorios\n",
    "# Han borrado total looks de Stradivarius\n",
    "\n",
    "def check_name(name):\n",
    "    name_mapping = {\n",
    "        'vestidos y monos': 'vestidos',\n",
    "        'blusas y camisas': 'camisas',\n",
    "        'vaqueros': 'jeans',\n",
    "        'shorts | bermudas': 'shorts',\n",
    "        'bañadores | bikinis': 'bikinis y bañadores',\n",
    "        'tops | bodies': 'tops',\n",
    "        'tops y bodies': 'tops'\n",
    "    }\n",
    "    \n",
    "    return name_mapping.get(name, name)\n"
   ]
  },
  {
   "cell_type": "code",
   "execution_count": 14,
   "metadata": {},
   "outputs": [
    {
     "name": "stdout",
     "output_type": "stream",
     "text": [
      "['bikinis y bañadores', 'blazers', 'chaquetas', 'vestidos', 'faldas', 'tops', 'camisas', 'camisetas', 'jeans', 'pantalones', 'shorts', 'punto', 'sudaderas', 'chalecos', 'básicos']\n"
     ]
    }
   ],
   "source": [
    "with open('../data/productsZara.json', 'r') as jsonFile:\n",
    "    data = json.load(jsonFile)\n",
    "\n",
    "zara_comparison_categories = []\n",
    "zara_categories = []\n",
    "\n",
    "for category in data['categories']:\n",
    "    if category['name'].lower() in common_categories:\n",
    "        category['name'] = check_name(category['name'])                                       \n",
    "        zara_categories.append(category['name'].lower())\n",
    "        zara_comparison_categories.append(category)\n",
    "\n",
    "print(zara_categories)\n",
    "\n",
    "with open('../data/filteredZara.json', 'w', encoding='utf-8') as output_file:\n",
    "    jsonData = { \"categories\": zara_comparison_categories }\n",
    "    json.dump(jsonData, output_file, indent=4)"
   ]
  },
  {
   "cell_type": "code",
   "execution_count": 17,
   "metadata": {},
   "outputs": [
    {
     "name": "stdout",
     "output_type": "stream",
     "text": [
      "[]\n"
     ]
    }
   ],
   "source": [
    "with open('../data/productsStradivarius.json', 'r') as jsonFile:\n",
    "    data = json.load(jsonFile)\n",
    "\n",
    "zara_comparison_categories = []\n",
    "zara_categories = []\n",
    "\n",
    "for category in data['categories']:\n",
    "    if category['name'].lower() in common_categories:\n",
    "        category['name'] = check_name(category['name'])                                                                               \n",
    "        zara_categories.append(category['name'].lower())\n",
    "        zara_comparison_categories.append(category)\n",
    "\n",
    "print(zara_categories)\n",
    "\n",
    "with open('../data/filteredStradivarius.json', 'w', encoding='utf-8') as output_file:\n",
    "    jsonData = { \"categories\": zara_comparison_categories }\n",
    "    json.dump(jsonData, output_file, indent=4)"
   ]
  }
 ],
 "metadata": {
  "kernelspec": {
   "display_name": "Python 3",
   "language": "python",
   "name": "python3"
  },
  "language_info": {
   "codemirror_mode": {
    "name": "ipython",
    "version": 3
   },
   "file_extension": ".py",
   "mimetype": "text/x-python",
   "name": "python",
   "nbconvert_exporter": "python",
   "pygments_lexer": "ipython3",
   "version": "3.11.9"
  }
 },
 "nbformat": 4,
 "nbformat_minor": 2
}
