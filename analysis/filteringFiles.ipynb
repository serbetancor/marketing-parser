{
 "cells": [
  {
   "cell_type": "code",
   "execution_count": 3,
   "metadata": {},
   "outputs": [],
   "source": [
    "import json\n",
    "import re"
   ]
  },
  {
   "cell_type": "code",
   "execution_count": 51,
   "metadata": {},
   "outputs": [],
   "source": [
    "common_categories = ['chaquetas', 'pantalones', 'vestidos', 'vestidos y monos', 'sudaderas', 'camisas', 'blusas y camisas', 'camisetas', 'jeans', 'vaqueros', 'faldas', 'básicos', 'blazers', 'chalecos', 'punto', 'shorts', 'shorts | bermudas', 'bikinis y bañadores', 'bañadores | bikinis', 'tops y bodies', 'tops | bodies', 'tops', 'accesorios', 'accesorios | bisuteria']\n",
    "\n",
    "# Mango no vende sudaderas, básicos, chalecos, punto, accesorios\n",
    "# Han borrado total looks de Stradivarius\n",
    "\n",
    "def check_name(name):\n",
    "    name_mapping = {\n",
    "        'vestidos y monos': 'vestidos',\n",
    "        'blusas y camisas': 'camisas',\n",
    "        'vaqueros': 'jeans',\n",
    "        'shorts | bermudas': 'shorts',\n",
    "        'bañadores | bikinis': 'bikinis y bañadores',\n",
    "        'tops | bodies': 'tops',\n",
    "        'tops y bodies': 'tops',\n",
    "        'accesorios | bisuteria': 'accesorios'\n",
    "    }\n",
    "    \n",
    "    return name_mapping.get(name, name)\n",
    "\n",
    "def create_null_template(name):\n",
    "    return {\n",
    "    \"name\": name,\n",
    "    \"url\": \"\",\n",
    "    \"quantity\": \"\",\n",
    "    \"products\": []\n",
    "}\n"
   ]
  },
  {
   "cell_type": "code",
   "execution_count": 57,
   "metadata": {},
   "outputs": [
    {
     "name": "stdout",
     "output_type": "stream",
     "text": [
      "['bikinis y bañadores', 'blazers', 'chaquetas', 'vestidos', 'faldas', 'tops', 'camisas', 'camisetas', 'jeans', 'pantalones', 'shorts', 'punto', 'sudaderas', 'chalecos', 'accesorios', 'básicos']\n"
     ]
    }
   ],
   "source": [
    "with open('../data/productsZara.json', 'r') as jsonFile:\n",
    "    data = json.load(jsonFile)\n",
    "\n",
    "zara_comparison_categories = []\n",
    "zara_categories = []\n",
    "\n",
    "for category in data['categories']:\n",
    "    if category['name'].lower() in common_categories:\n",
    "        category['name'] = check_name(category['name'].lower())                                       \n",
    "        zara_categories.append(category['name'])\n",
    "        zara_comparison_categories.append(category)\n",
    "\n",
    "print(zara_categories)\n",
    "\n",
    "with open('../data/filteredZara.json', 'w', encoding='utf-8') as output_file:\n",
    "    jsonData = { \"categories\": zara_comparison_categories }\n",
    "    json.dump(jsonData, output_file, indent=4)"
   ]
  },
  {
   "cell_type": "code",
   "execution_count": 59,
   "metadata": {},
   "outputs": [
    {
     "name": "stdout",
     "output_type": "stream",
     "text": [
      "['chaquetas', 'blazers', 'pantalones', 'jeans', 'faldas', 'vestidos', 'camisetas', 'tops', 'camisas', 'sudaderas', 'chalecos', 'punto', 'básicos', 'shorts', 'bikinis y bañadores', 'accesorios']\n"
     ]
    }
   ],
   "source": [
    "with open('../data/productsStradivarius.json', 'r') as jsonFile:\n",
    "    data = json.load(jsonFile)\n",
    "\n",
    "stradivarius_comparison_categories = []\n",
    "stradivarius_categories = []\n",
    "\n",
    "for category in data['categories']:\n",
    "    if category['name'].lower() in common_categories:\n",
    "        if category['name'] == \"ACCESORIOS\":\n",
    "            category = category['section'][0]\n",
    "            category['name'] = \"accesorios\"\n",
    "        category['name'] = check_name(category['name'])                                                                               \n",
    "        stradivarius_categories.append(category['name'].lower())\n",
    "        stradivarius_comparison_categories.append(category)\n",
    "    if category['name'] == \"ROPA\":\n",
    "        for section in category['section']:\n",
    "            if section['name'].lower() in common_categories:\n",
    "                section['name'] = check_name(section['name'].lower())        \n",
    "                stradivarius_categories.append(section['name'])\n",
    "                stradivarius_comparison_categories.append(section)                                                                       \n",
    "\n",
    "\n",
    "print(stradivarius_categories)\n",
    "\n",
    "with open('../data/filteredStradivarius.json', 'w', encoding='utf-8') as output_file:\n",
    "    jsonData = { \"categories\": stradivarius_comparison_categories }\n",
    "    json.dump(jsonData, output_file, indent=4)"
   ]
  },
  {
   "cell_type": "code",
   "execution_count": 60,
   "metadata": {},
   "outputs": [
    {
     "name": "stdout",
     "output_type": "stream",
     "text": [
      "['vestidos', 'camisetas', 'tops', 'camisas', 'chaquetas', 'blazers', 'pantalones', 'faldas', 'jeans', 'shorts', 'bikinis y bañadores', 'sudaderas', 'básicos', 'chalecos', 'punto', 'accesorios']\n"
     ]
    }
   ],
   "source": [
    "with open('../data/productsMango.json', 'r') as jsonFile:\n",
    "    data = json.load(jsonFile)\n",
    "\n",
    "mango_comparison_categories = []\n",
    "mango_categories = []\n",
    "missing = ['sudaderas', 'básicos', 'chalecos', 'punto', 'accesorios']\n",
    "\n",
    "for category in data['categories']:\n",
    "    if category['name'].lower() in common_categories:\n",
    "        category['name'] = check_name(category['name'].lower())                                                                               \n",
    "        mango_categories.append(category['name'])\n",
    "        mango_comparison_categories.append(category)\n",
    "\n",
    "for missing in missing:\n",
    "    mango_categories.append(missing)\n",
    "    mango_comparison_categories.append(create_null_template(missing))\n",
    "\n",
    "\n",
    "print(mango_categories)\n",
    "\n",
    "with open('../data/filteredMango.json', 'w', encoding='utf-8') as output_file:\n",
    "    jsonData = { \"categories\": mango_comparison_categories }\n",
    "    json.dump(jsonData, output_file, indent=4)"
   ]
  }
 ],
 "metadata": {
  "kernelspec": {
   "display_name": "Python 3",
   "language": "python",
   "name": "python3"
  },
  "language_info": {
   "codemirror_mode": {
    "name": "ipython",
    "version": 3
   },
   "file_extension": ".py",
   "mimetype": "text/x-python",
   "name": "python",
   "nbconvert_exporter": "python",
   "pygments_lexer": "ipython3",
   "version": "3.11.9"
  }
 },
 "nbformat": 4,
 "nbformat_minor": 2
}
