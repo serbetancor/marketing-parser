{
 "cells": [
  {
   "cell_type": "code",
   "execution_count": 2,
   "metadata": {},
   "outputs": [],
   "source": [
    "import json"
   ]
  },
  {
   "cell_type": "code",
   "execution_count": null,
   "metadata": {},
   "outputs": [],
   "source": [
    "with open('../data/0riginalproductsZara.json', 'r') as jsonFile:\n",
    "    data = json.load(jsonFile)\n",
    "\n",
    "for category in data['categories']:\n",
    "    for product in category['products']:\n",
    "        product['price'] = float(product['price'].replace(\" EUR\", \"\").replace(\",\", \".\"))\n",
    "\n",
    "with open('../data/productsZara.json', 'w') as jsonFile:\n",
    "    json.dump(data, jsonFile, indent=4)"
   ]
  },
  {
   "cell_type": "markdown",
   "metadata": {},
   "source": [
    "Selecting clothing categories both brands have in common"
   ]
  },
  {
   "cell_type": "code",
   "execution_count": null,
   "metadata": {},
   "outputs": [],
   "source": [
    "with open('../data/0riginalproductsZara.json', 'r') as jsonFile:\n",
    "    data = json.load(jsonFile)\n",
    "\n",
    "zara_comparison_categories = []\n",
    "common_categories = ['chaquetas', 'pantalones', 'vestidos', 'sudaderas', 'camisas', 'camisetas', 'jeans', 'total look', 'faldas', 'básicos', 'blazers', 'chalecos', 'punto', 'shorts', 'bikinis y bañadores', 'tops y bodies']\n",
    "zara_categories = []\n",
    "\n",
    "for category in data['categories']:\n",
    "    zara_categories.append(category['name'].lower())\n",
    "    if category['name'].lower() in common_categories:\n",
    "        zara_comparison_categories.append(category)\n",
    "    if category['name'] == \"shorts | bermudas\":\n",
    "        category['name'] = \"shorts\"\n",
    "        zara_comparison_categories.append(category)\n",
    "    if category['name'] == \"bañadores | bikinis\":\n",
    "        category['name'] = \"bikinis y bañadores\"\n",
    "        zara_comparison_categories.append(category)   \n",
    "    if category['name'] == \"tops | bodies\":\n",
    "        category['name'] = \"tops y bodies\"\n",
    "        zara_comparison_categories.append(category)\n",
    "    if category['name'] == \"trench | abrigos\":\n",
    "        category['name'] = \"trench y abrigos\"\n",
    "        zara_comparison_categories.append(category) \n",
    "\n",
    "set_zara = set(zara_categories)\n",
    "print(set_zara)\n",
    "\n",
    "with open('../data/comparisonZara.json', 'w', encoding='utf-8') as output_file:\n",
    "    jsonData = { \"categories\": zara_comparison_categories }\n",
    "    json.dump(jsonData, output_file, indent=4)"
   ]
  },
  {
   "cell_type": "code",
   "execution_count": null,
   "metadata": {},
   "outputs": [],
   "source": [
    "with open('../data/0riginalproductsStradivarius.json', 'r') as jsonFile:\n",
    "    data = json.load(jsonFile)\n",
    "\n",
    "stradivarius_comparison_categories = []\n",
    "trench_abrigos_productos = []\n",
    "stradivarius_categories = []\n",
    "\n",
    "for category in data['categories']:\n",
    "    if category['name'] == \"ROPA\":\n",
    "        for section in category['section']:\n",
    "            section['name'] = section['name'].lower()\n",
    "            stradivarius_categories.append(section['name'])\n",
    "            if section['name'] in common_categories:\n",
    "                stradivarius_comparison_categories.append(section)\n",
    "            if section['name'] == \"abrigos\" or section['name'] == \"trench\":\n",
    "                for product in section['products']:\n",
    "                    trench_abrigos_productos.append(product)\n",
    "        stradivarius_comparison_categories.append({\"name\": \"trench y abrigos\", \"url\": None, \"products\": trench_abrigos_productos})\n",
    "\n",
    "set_stradivarius = set(stradivarius_categories)\n",
    "print(set_stradivarius)\n",
    "\n",
    "with open('../data/comparisonStradivarius.json', 'w', encoding='utf-8') as output_file:\n",
    "    jsonData = { \"categories\": stradivarius_comparison_categories }\n",
    "    json.dump(jsonData, output_file, indent=4)"
   ]
  },
  {
   "cell_type": "code",
   "execution_count": null,
   "metadata": {},
   "outputs": [],
   "source": [
    "print(set_zara.intersection(set_stradivarius))"
   ]
  },
  {
   "cell_type": "markdown",
   "metadata": {},
   "source": [
    "Getting the data formatted and sorted"
   ]
  },
  {
   "cell_type": "code",
   "execution_count": 9,
   "metadata": {},
   "outputs": [],
   "source": [
    "with open('../data/comparisonZara.json', 'r') as jsonFile:\n",
    "    data = json.load(jsonFile)\n",
    "\n",
    "data['categories'] = sorted(data['categories'], key=lambda x: x['name'])\n",
    "sum_price = 0\n",
    "\n",
    "for category in data['categories']:\n",
    "    category['quantity'] = len(category['products'])\n",
    "    for product in category['products']:\n",
    "        sum_price += product['price']\n",
    "    category['avg_price'] = round(sum_price / len(category['products']), 2)\n",
    "    sum_price = 0\n",
    "    products = category.pop(\"products\")\n",
    "    category[\"products\"] = products\n",
    "\n",
    "with open('../data/comparisonZara.json', 'w') as jsonFile:\n",
    "    json.dump(data, jsonFile, indent=4)\n",
    "\n",
    "for category in data['categories']:\n",
    "    category.pop(\"products\")\n",
    "    category.pop(\"url\")\n",
    "\n",
    "with open('../data/rawComparisonZara.json', 'w') as jsonFile:\n",
    "    json.dump(data, jsonFile, indent=4)"
   ]
  },
  {
   "cell_type": "code",
   "execution_count": 8,
   "metadata": {},
   "outputs": [],
   "source": [
    "with open('../data/comparisonStradivarius.json', 'r') as jsonFile:\n",
    "    data = json.load(jsonFile)\n",
    "\n",
    "data['categories'] = sorted(data['categories'], key=lambda x: x['name'])\n",
    "sum_price = 0\n",
    "\n",
    "for category in data['categories']:\n",
    "    for product in category['products']:\n",
    "        sum_price += product['price']\n",
    "    category['avg_price'] = round(sum_price / len(category['products']), 2)\n",
    "    sum_price = 0\n",
    "    products = category.pop(\"products\")\n",
    "    category[\"products\"] = products\n",
    "\n",
    "with open('../data/comparisonStradivarius.json', 'w') as jsonFile:\n",
    "    json.dump(data, jsonFile, indent=4)\n",
    "\n",
    "for category in data['categories']:\n",
    "    category.pop(\"products\")\n",
    "    category.pop(\"url\")\n",
    "\n",
    "with open('../data/rawComparisonStradivarius.json', 'w') as jsonFile:\n",
    "    json.dump(data, jsonFile, indent=4)"
   ]
  }
 ],
 "metadata": {
  "kernelspec": {
   "display_name": "Python 3",
   "language": "python",
   "name": "python3"
  },
  "language_info": {
   "codemirror_mode": {
    "name": "ipython",
    "version": 3
   },
   "file_extension": ".py",
   "mimetype": "text/x-python",
   "name": "python",
   "nbconvert_exporter": "python",
   "pygments_lexer": "ipython3",
   "version": "3.10.11"
  }
 },
 "nbformat": 4,
 "nbformat_minor": 2
}
