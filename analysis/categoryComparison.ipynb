{
 "cells": [
  {
   "cell_type": "code",
   "execution_count": 4,
   "metadata": {},
   "outputs": [],
   "source": [
    "import json"
   ]
  },
  {
   "cell_type": "markdown",
   "metadata": {},
   "source": [
    "Getting the data formatted and sorted"
   ]
  },
  {
   "cell_type": "code",
   "execution_count": 11,
   "metadata": {},
   "outputs": [],
   "source": [
    "with open('../data/filteredZara.json', 'r') as jsonFile:\n",
    "    data = json.load(jsonFile)\n",
    "\n",
    "data['categories'] = sorted(data['categories'], key=lambda x: x['name'])\n",
    "sum_price = 0\n",
    "\n",
    "for category in data['categories']:\n",
    "    category['quantity'] = len(category['products'])\n",
    "    for product in category['products']:\n",
    "        sum_price += product['price']\n",
    "    category['avg_price'] = round(sum_price / len(category['products']), 2)\n",
    "    sum_price = 0\n",
    "    products = category.pop(\"products\")\n",
    "    category[\"products\"] = products\n",
    "\n",
    "with open('../data/comparisonZara.json', 'w') as jsonFile:\n",
    "    json.dump(data, jsonFile, indent=4)\n",
    "\n",
    "for category in data['categories']:\n",
    "    category.pop(\"products\")\n",
    "    category.pop(\"url\")\n",
    "\n",
    "with open('../data/finalZara.json', 'w') as jsonFile:\n",
    "    json.dump(data, jsonFile, indent=4)"
   ]
  },
  {
   "cell_type": "code",
   "execution_count": 10,
   "metadata": {},
   "outputs": [],
   "source": [
    "with open('../data/filteredStradivarius.json', 'r') as jsonFile:\n",
    "    data = json.load(jsonFile)\n",
    "\n",
    "data['categories'] = sorted(data['categories'], key=lambda x: x['name'])\n",
    "sum_price = 0\n",
    "\n",
    "for category in data['categories']:\n",
    "    category['quantity'] = len(category['products'])\n",
    "    for product in category['products']:\n",
    "        sum_price += product['price']\n",
    "    category['avg_price'] = round(sum_price / len(category['products']), 2)\n",
    "    sum_price = 0\n",
    "    x = category.pop(\"avg_price\")\n",
    "    category['avg_price'] = x\n",
    "    products = category.pop(\"products\")\n",
    "    category[\"products\"] = products\n",
    "\n",
    "with open('../data/comparisonStradivarius.json', 'w') as jsonFile:\n",
    "    json.dump(data, jsonFile, indent=4)\n",
    "\n",
    "for category in data['categories']:\n",
    "    category.pop(\"products\")\n",
    "    category.pop(\"url\")\n",
    "\n",
    "with open('../data/finalStradivarius.json', 'w') as jsonFile:\n",
    "    json.dump(data, jsonFile, indent=4)"
   ]
  },
  {
   "cell_type": "code",
   "execution_count": 20,
   "metadata": {},
   "outputs": [],
   "source": [
    "with open('../data/filteredMango.json', 'r') as jsonFile:\n",
    "    data = json.load(jsonFile)\n",
    "\n",
    "data['categories'] = sorted(data['categories'], key=lambda x: x['name'])\n",
    "\n",
    "for category in data['categories']:\n",
    "    sum_price = 0\n",
    "    sum_items = 0\n",
    "    for product in category['products']:\n",
    "        sum_items = sum_items + product['variety']\n",
    "        sum_price = sum_price + product['price']*product['variety']\n",
    "    category['quantity'] = sum_items\n",
    "    if len(category['products']):\n",
    "        category['avg_price'] = round(sum_price / sum_items, 2)\n",
    "    else:\n",
    "        category['avg_price'] = 0\n",
    "    x = category.pop(\"avg_price\")\n",
    "    category['avg_price'] = x\n",
    "    products = category.pop(\"products\")\n",
    "    category[\"products\"] = products\n",
    "\n",
    "with open('../data/comparisonMango.json', 'w') as jsonFile:\n",
    "    json.dump(data, jsonFile, indent=4)\n",
    "\n",
    "for category in data['categories']:\n",
    "    category.pop(\"products\")\n",
    "    category.pop(\"url\")\n",
    "\n",
    "with open('../data/finalMango.json', 'w') as jsonFile:\n",
    "    json.dump(data, jsonFile, indent=4)"
   ]
  }
 ],
 "metadata": {
  "kernelspec": {
   "display_name": "Python 3",
   "language": "python",
   "name": "python3"
  },
  "language_info": {
   "codemirror_mode": {
    "name": "ipython",
    "version": 3
   },
   "file_extension": ".py",
   "mimetype": "text/x-python",
   "name": "python",
   "nbconvert_exporter": "python",
   "pygments_lexer": "ipython3",
   "version": "3.10.11"
  }
 },
 "nbformat": 4,
 "nbformat_minor": 2
}
