{
 "cells": [
  {
   "cell_type": "code",
   "execution_count": 22,
   "metadata": {},
   "outputs": [],
   "source": [
    "import json\n",
    "import re"
   ]
  },
  {
   "cell_type": "code",
   "execution_count": 63,
   "metadata": {},
   "outputs": [
    {
     "name": "stdout",
     "output_type": "stream",
     "text": [
      "Zara unique items:  2904  items.\n",
      "We tried to insert a duplicated item  1877  times.\n"
     ]
    }
   ],
   "source": [
    "with open('../data/productsZara.json', 'r') as jsonFile:\n",
    "    data = json.load(jsonFile)\n",
    "\n",
    "pattern = r\"https://www.zara.com/es/es/-pT\\d+\\.html\"\n",
    "\n",
    "single_urls = []\n",
    "repeated = 0\n",
    "for category in data['categories']:\n",
    "    if category['products']:\n",
    "        for product in category['products']:\n",
    "            url_trim = product['url']\n",
    "            # url_trim = url_trim[:url_trim.rfind('-')] # Unique items\n",
    "            if re.sub(pattern, '', product['url']) and url_trim not in single_urls:\n",
    "                single_urls.append(url_trim)\n",
    "            else:\n",
    "                repeated += 1\n",
    "\n",
    "print(\"Zara unique items: \", len(single_urls), \" items.\")\n",
    "print(\"We tried to insert a duplicated item \", repeated, \" times.\")"
   ]
  },
  {
   "cell_type": "code",
   "execution_count": null,
   "metadata": {},
   "outputs": [],
   "source": [
    "for url in sorted(single_urls):\n",
    "    print(url)"
   ]
  },
  {
   "cell_type": "code",
   "execution_count": 61,
   "metadata": {},
   "outputs": [
    {
     "name": "stdout",
     "output_type": "stream",
     "text": [
      "Stradivarius unique items:  2168  items.\n",
      "We tried to insert a duplicated item  3517  times.\n"
     ]
    }
   ],
   "source": [
    "with open('../data/productsStradivarius.json', 'r') as jsonFile:\n",
    "    data = json.load(jsonFile)\n",
    "\n",
    "single_urls = []\n",
    "repeated = 0\n",
    "pattern = r'categoryId=[^&]*&?'\n",
    "pattern2 = r'style=[^&]*&?'\n",
    "pattern3 = r'&pelement=.*$'\n",
    "\n",
    "for category in data['categories']:\n",
    "    if category['section']:\n",
    "        for section in category['section']:\n",
    "            if section['products']:\n",
    "                for product in section['products']:\n",
    "                    modified_url = re.sub(pattern, '', product['url'])\n",
    "                    modified_url = re.sub(pattern2, '', modified_url)\n",
    "                    modified_url = re.sub(pattern3, '', modified_url)\n",
    "\n",
    "                    # modified_url = modified_url[:modified_url.rfind('-')] # Unique items\n",
    "\n",
    "\n",
    "                    if modified_url not in single_urls:\n",
    "                        single_urls.append(modified_url)\n",
    "                    else:\n",
    "                        repeated += 1\n",
    "    else:\n",
    "        if category['products']:\n",
    "            for product in category['products']:\n",
    "                modified_url = re.sub(pattern, '', product['url'])\n",
    "                modified_url = re.sub(pattern2, '', modified_url)\n",
    "                modified_url = re.sub(pattern3, '', modified_url)\n",
    "\n",
    "                # modified_url = modified_url[:modified_url.rfind('-')] # Unique items\n",
    "\n",
    "                if modified_url not in single_urls:\n",
    "                    single_urls.append(modified_url)\n",
    "                else:\n",
    "                    repeated += 1\n",
    "\n",
    "print(\"Stradivarius unique items: \", len(single_urls), \" items.\")\n",
    "print(\"We tried to insert a duplicated item \", repeated, \" times.\")"
   ]
  },
  {
   "cell_type": "code",
   "execution_count": null,
   "metadata": {},
   "outputs": [],
   "source": [
    "for url in sorted(single_urls):\n",
    "    print(url)"
   ]
  },
  {
   "cell_type": "markdown",
   "metadata": {},
   "source": [
    "Stradivarius in a little more detail"
   ]
  },
  {
   "cell_type": "code",
   "execution_count": null,
   "metadata": {},
   "outputs": [],
   "source": [
    "def calculate_average(numbers):\n",
    "    if len(numbers) == 0:\n",
    "        return 0 \n",
    "    total = sum(numbers)\n",
    "    average = total / len(numbers)\n",
    "    return average\n",
    "\n",
    "with open('../data/productsStradivarius.json', 'r') as jsonFile:\n",
    "    data = json.load(jsonFile)\n",
    "\n",
    "prices = []\n",
    "categoryPrices = []\n",
    "todo = []\n",
    "sections = []\n",
    "for category in data['categories']:\n",
    "    if category['section'] is None:\n",
    "        for items in category['products']:\n",
    "            prices.append(items['price'])\n",
    "        \n",
    "        todo.append({ \"name\": category['name'], \"number of items\": category['quantity'], \"average price\": round(calculate_average(prices),2) })\n",
    "        prices = []\n",
    "\n",
    "    else:\n",
    "        for section in category['section']:\n",
    "            for items in section['products']:\n",
    "                categoryPrices.append(items['price'])\n",
    "                prices.append(items['price'])\n",
    "\n",
    "            sections.append({ \"name\": section['name'], \"number of items\": section['quantity'], \"average price\": round(calculate_average(prices),2) })\n",
    "            prices = []\n",
    "\n",
    "        todo.append({ \"name\": category['name'], \"number of items\": category['quantity'], \"average price\": round(calculate_average(categoryPrices),2), \"sections\": sections })\n",
    "        categoryPrices = []\n",
    "        sections = []\n",
    "\n",
    "\n",
    "with open('../data/analysisStradivarius.json', 'w', encoding='utf-8') as output_file:\n",
    "    jsonData = { \"categories\": todo }\n",
    "    json.dump(jsonData, output_file, indent=4)\n"
   ]
  }
 ],
 "metadata": {
  "kernelspec": {
   "display_name": "Python 3",
   "language": "python",
   "name": "python3"
  },
  "language_info": {
   "codemirror_mode": {
    "name": "ipython",
    "version": 3
   },
   "file_extension": ".py",
   "mimetype": "text/x-python",
   "name": "python",
   "nbconvert_exporter": "python",
   "pygments_lexer": "ipython3",
   "version": "3.10.11"
  }
 },
 "nbformat": 4,
 "nbformat_minor": 2
}
